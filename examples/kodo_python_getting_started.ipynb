{
 "cells": [
  {
   "cell_type": "markdown",
   "metadata": {},
   "source": [
    "#Kodo-python Getting Started"
   ]
  },
  {
   "cell_type": "markdown",
   "metadata": {},
   "source": [
    "Write what's the intention of this walkthrough."
   ]
  },
  {
   "cell_type": "markdown",
   "metadata": {},
   "source": [
    "##Importing kodo"
   ]
  },
  {
   "cell_type": "markdown",
   "metadata": {},
   "source": [
    "Before working with Kodo-python, you obviously need to have it installed and available. To ensure that's the case, try importing it:"
   ]
  },
  {
   "cell_type": "code",
   "execution_count": 1,
   "metadata": {
    "collapsed": false
   },
   "outputs": [
    {
     "name": "stdout",
     "output_type": "stream",
     "text": [
      "Kodo imported Succesfully\n"
     ]
    }
   ],
   "source": [
    "# try importing the kodo module\n",
    "try:\n",
    "    import kodo\n",
    "    print(\"Kodo imported Succesfully\")\n",
    "except ImportError:\n",
    "    print(\"Unable to import kodo!\")"
   ]
  },
  {
   "cell_type": "markdown",
   "metadata": {},
   "source": [
    "If the import worked, you are ready to go to the next step. Otherwise please *re*visit the README for installation instructions."
   ]
  },
  {
   "cell_type": "markdown",
   "metadata": {},
   "source": [
    "## Creating an Encoder"
   ]
  },
  {
   "cell_type": "markdown",
   "metadata": {},
   "source": [
    "In kodo, both encoder and decoder factories are created using factories. Doing so allows efficient memory management and reuse of various computations and components. \n",
    "\n",
    "Therefore, before creating an encoder, let's look at the encoder factories provided by the ``kodo`` module:"
   ]
  },
  {
   "cell_type": "code",
   "execution_count": 2,
   "metadata": {
    "collapsed": false
   },
   "outputs": [
    {
     "name": "stdout",
     "output_type": "stream",
     "text": [
      "FullVectorEncoderFactoryBinary\n",
      "FullVectorEncoderFactoryBinary16\n",
      "FullVectorEncoderFactoryBinary4\n",
      "FullVectorEncoderFactoryBinary8\n",
      "NoCodeEncoderFactory\n",
      "OnTheFlyEncoderFactoryBinary\n",
      "OnTheFlyEncoderFactoryBinary16\n",
      "OnTheFlyEncoderFactoryBinary4\n",
      "OnTheFlyEncoderFactoryBinary8\n",
      "PerpetualEncoderFactoryBinary\n",
      "PerpetualEncoderFactoryBinary16\n",
      "PerpetualEncoderFactoryBinary4\n",
      "PerpetualEncoderFactoryBinary8\n",
      "SlidingWindowEncoderFactoryBinary\n",
      "SlidingWindowEncoderFactoryBinary16\n",
      "SlidingWindowEncoderFactoryBinary4\n",
      "SlidingWindowEncoderFactoryBinary8\n",
      "SparseFullVectorEncoderFactoryBinary\n",
      "SparseFullVectorEncoderFactoryBinary16\n",
      "SparseFullVectorEncoderFactoryBinary4\n",
      "SparseFullVectorEncoderFactoryBinary8\n"
     ]
    }
   ],
   "source": [
    "# print all members containing \"Factory\" and \"Encoder\"\n",
    "print(\"\\n\".join([item for item in dir(kodo) if all([keyword in item for keyword in [\"Factory\", \"Encoder\"]])]))"
   ]
  },
  {
   "cell_type": "markdown",
   "metadata": {},
   "source": [
    "As seen from the output, many different encoder factories exists. Most of these have decoder factory counterparts.\n",
    "The attentive reader will maybe have seen a pattern from the factory names. The factory names are, with some exceptions, a combination of the encoding algorithm and the underlying finite field.\n",
    "\n",
    "For this walkthrough we pick the full vector factory using the binary field, i.e. the *``FullVector``*``EncoderFactory``*``Binary``* factory.\n",
    "\n",
    "Note: In this guide should the choice of encoding factory should be interchangable, therefore I'll define the class as ``EncoderFactory``."
   ]
  },
  {
   "cell_type": "code",
   "execution_count": 3,
   "metadata": {
    "collapsed": true
   },
   "outputs": [],
   "source": [
    "# store the full vector binary encoder as EncoderFactory\n",
    "EncoderFactory = kodo.FullVectorEncoderFactoryBinary"
   ]
  },
  {
   "cell_type": "markdown",
   "metadata": {},
   "source": [
    "Let's see what the ``EncoderFactory``'s constructor takes as arguments: "
   ]
  },
  {
   "cell_type": "code",
   "execution_count": 4,
   "metadata": {
    "collapsed": false
   },
   "outputs": [
    {
     "name": "stdout",
     "output_type": "stream",
     "text": [
      "Help on method __init__:\n",
      "\n",
      "__init__(...) unbound kodo.FullVectorEncoderFactoryBinary method\n",
      "    Factory constructor.\n",
      "    \n",
      "            :param max_symbols: The maximum symbols the coders can expect.\n",
      "            :param max_symbol_size: The maximum size of a symbol in bytes.\n",
      "\n"
     ]
    }
   ],
   "source": [
    "# Get information about the encoder factory's __init__ function\n",
    "help(EncoderFactory.__init__)"
   ]
  },
  {
   "cell_type": "markdown",
   "metadata": {},
   "source": [
    "So, to create a factory, we need to pick the ``max_symbols`` and ``max_symbol_size``.\n",
    "These parameters determines upper bounds to the encoders created by the factory.\n",
    "\n",
    "The proper values to pick depends on the use case.\n",
    "\n",
    "Let's create an encoder_factory object:"
   ]
  },
  {
   "cell_type": "code",
   "execution_count": 5,
   "metadata": {
    "collapsed": false
   },
   "outputs": [],
   "source": [
    "max_symbols = 4\n",
    "max_symbol_size = 32\n",
    "\n",
    "encoder_factory = EncoderFactory(\n",
    "    max_symbols=max_symbols,\n",
    "    max_symbol_size=max_symbol_size)"
   ]
  },
  {
   "cell_type": "markdown",
   "metadata": {},
   "source": [
    "We can now use the object's ``build`` method to create encoders, but other methods are also available:"
   ]
  },
  {
   "cell_type": "code",
   "execution_count": 6,
   "metadata": {
    "collapsed": false,
    "scrolled": true
   },
   "outputs": [
    {
     "name": "stdout",
     "output_type": "stream",
     "text": [
      "build\n",
      "max_block_size\n",
      "max_payload_size\n",
      "max_symbol_size\n",
      "max_symbols\n",
      "set_symbol_size\n",
      "set_symbols\n",
      "symbol_size\n",
      "symbols\n"
     ]
    }
   ],
   "source": [
    "# Print all public members\n",
    "print(\"\\n\".join([item for item in dir(encoder_factory) if not item.startswith(\"__\")]))"
   ]
  },
  {
   "cell_type": "markdown",
   "metadata": {},
   "source": [
    "These can be used to either get information about the created factory or set values used for the encoders to be created using the ``build`` method.\n",
    "\n",
    "Let's print out the maximum block size, i.e. the maximum amount of data that can be encoded during each generation."
   ]
  },
  {
   "cell_type": "code",
   "execution_count": 7,
   "metadata": {
    "collapsed": false
   },
   "outputs": [
    {
     "name": "stdout",
     "output_type": "stream",
     "text": [
      "Max block size: 128\n"
     ]
    }
   ],
   "source": [
    "max_block_size = encoder_factory.max_block_size()\n",
    "print(\"Max block size: {}\".format(max_block_size))"
   ]
  },
  {
   "cell_type": "markdown",
   "metadata": {},
   "source": [
    "Note, the maximum block size is directly correlated with the previously set ``max_symbols`` and ``max_symbol_size``."
   ]
  },
  {
   "cell_type": "code",
   "execution_count": 8,
   "metadata": {
    "collapsed": false
   },
   "outputs": [
    {
     "name": "stdout",
     "output_type": "stream",
     "text": [
      "Calculated max block size: 128\n"
     ]
    }
   ],
   "source": [
    "calculated_max_block_size = max_symbols * max_symbol_size\n",
    "print(\"Calculated max block size: {}\".format(calculated_max_block_size))"
   ]
  },
  {
   "cell_type": "markdown",
   "metadata": {},
   "source": [
    "Well, let's do as they say in Monty Python:"
   ]
  },
  {
   "cell_type": "code",
   "execution_count": 9,
   "metadata": {
    "collapsed": false
   },
   "outputs": [
    {
     "data": {
      "text/html": [
       "\n",
       "        <iframe\n",
       "            width=\"400\"\n",
       "            height=\"300\"\n",
       "            src=\"https://www.youtube.com/embed/dEtm_Q2LK9g\"\n",
       "            frameborder=\"0\"\n",
       "            allowfullscreen\n",
       "        ></iframe>\n",
       "        "
      ],
      "text/plain": [
       "<IPython.lib.display.YouTubeVideo at 0x7f78b4a5fe90>"
      ]
     },
     "execution_count": 9,
     "metadata": {},
     "output_type": "execute_result"
    }
   ],
   "source": [
    "from IPython.display import YouTubeVideo\n",
    "YouTubeVideo('dEtm_Q2LK9g')"
   ]
  },
  {
   "cell_type": "code",
   "execution_count": 34,
   "metadata": {
    "collapsed": false
   },
   "outputs": [],
   "source": [
    "encoder = encoder_factory.build()"
   ]
  },
  {
   "cell_type": "markdown",
   "metadata": {},
   "source": [
    "Fantastic, we've build our first encoder! Let's see what we can use it for:"
   ]
  },
  {
   "cell_type": "code",
   "execution_count": 35,
   "metadata": {
    "collapsed": false
   },
   "outputs": [
    {
     "name": "stdout",
     "output_type": "stream",
     "text": [
      "block_size\n",
      "is_systematic_on\n",
      "payload_size\n",
      "rank\n",
      "set_symbol\n",
      "set_symbols\n",
      "set_systematic_off\n",
      "set_systematic_on\n",
      "symbol_size\n",
      "symbols\n",
      "trace\n",
      "write_payload\n"
     ]
    }
   ],
   "source": [
    "# Print all public members\n",
    "print(\"\\n\".join([item for item in dir(encoder) if not item.startswith(\"__\")]))"
   ]
  },
  {
   "cell_type": "markdown",
   "metadata": {},
   "source": [
    "Let's inspect the state of our newly created encoder."
   ]
  },
  {
   "cell_type": "code",
   "execution_count": 36,
   "metadata": {
    "collapsed": false
   },
   "outputs": [
    {
     "name": "stdout",
     "output_type": "stream",
     "text": [
      "block_size: 128\n",
      "is_systematic_on: True\n",
      "payload_size: 38\n",
      "rank: 0\n",
      "symbol_size: 32\n",
      "symbols: 4\n"
     ]
    }
   ],
   "source": [
    "def print_state(encoder):\n",
    "    print(\n",
    "        \"block_size: {}\\n\"\n",
    "        \"is_systematic_on: {}\\n\"\n",
    "        \"payload_size: {}\\n\"\n",
    "        \"rank: {}\\n\"\n",
    "        \"symbol_size: {}\\n\"\n",
    "        \"symbols: {}\".format(\n",
    "            encoder.block_size(),\n",
    "            encoder.is_systematic_on(),\n",
    "            encoder.payload_size(),\n",
    "            encoder.rank(),\n",
    "            encoder.symbol_size(),\n",
    "            encoder.symbols())\n",
    "    )\n",
    "print_state(encoder)"
   ]
  },
  {
   "cell_type": "markdown",
   "metadata": {},
   "source": [
    "We use the ``write_payload`` method to encode the data, but since we have yet to tell encoder what data to encode, we can't use it yet.\n",
    "This can be seen from the encoder rank which is 0.\n",
    "\n",
    "Let's create some data to encode:"
   ]
  },
  {
   "cell_type": "code",
   "execution_count": 37,
   "metadata": {
    "collapsed": false
   },
   "outputs": [
    {
     "name": "stdout",
     "output_type": "stream",
     "text": [
      "Length of data string: 128\n"
     ]
    }
   ],
   "source": [
    "data_in = (\n",
    "    \"The size of this data is exactly 128 bytes \"\n",
    "    \"which means it will fit perfectly in a single generation. \"\n",
    "    \"That is very lucky, indeed!\"\n",
    ")\n",
    "print(\"Length of data string: {}\".format(len(data_in)))"
   ]
  },
  {
   "cell_type": "markdown",
   "metadata": {},
   "source": [
    "Kodo uses python strings as data objects, which means each character represents a byte. Let's set the data to encode on the encoder."
   ]
  },
  {
   "cell_type": "code",
   "execution_count": 38,
   "metadata": {
    "collapsed": true
   },
   "outputs": [],
   "source": [
    "encoder.set_symbols(data_in)"
   ]
  },
  {
   "cell_type": "markdown",
   "metadata": {},
   "source": [
    "We should now be able to see how the state of the encoder has changed."
   ]
  },
  {
   "cell_type": "code",
   "execution_count": 39,
   "metadata": {
    "collapsed": false
   },
   "outputs": [
    {
     "name": "stdout",
     "output_type": "stream",
     "text": [
      "block_size: 128\n",
      "is_systematic_on: True\n",
      "payload_size: 38\n",
      "rank: 4\n",
      "symbol_size: 32\n",
      "symbols: 4\n"
     ]
    }
   ],
   "source": [
    "print_state(encoder)"
   ]
  },
  {
   "cell_type": "markdown",
   "metadata": {},
   "source": [
    "Notice how the rank is now equal to the number of symbols:"
   ]
  },
  {
   "cell_type": "code",
   "execution_count": 40,
   "metadata": {
    "collapsed": false
   },
   "outputs": [
    {
     "data": {
      "text/plain": [
       "True"
      ]
     },
     "execution_count": 40,
     "metadata": {},
     "output_type": "execute_result"
    }
   ],
   "source": [
    "encoder.rank() == max_symbols"
   ]
  },
  {
   "cell_type": "markdown",
   "metadata": {},
   "source": [
    "We can only encode if the rank is > 0.\n",
    "\n",
    "Let's encode some packets:"
   ]
  },
  {
   "cell_type": "code",
   "execution_count": 41,
   "metadata": {
    "collapsed": false
   },
   "outputs": [
    {
     "name": "stdout",
     "output_type": "stream",
     "text": [
      "packet1: �\u0000\u0000\u0000\u0000The size of this data is exactly\n",
      "packet2: �\u0000\u0000\u0000\u0001 128 bytes which means it will f\n",
      "packet3: �\u0000\u0000\u0000\u0002it perfectly in a single generat\n",
      "packet4: �\u0000\u0000\u0000\u0003ion. That is very lucky, indeed!\n",
      "\n"
     ]
    }
   ],
   "source": [
    "packet1 = encoder.write_payload()\n",
    "packet2 = encoder.write_payload()\n",
    "packet3 = encoder.write_payload()\n",
    "packet4 = encoder.write_payload()\n",
    "\n",
    "print(\n",
    "    \"packet1: {}\\n\"\n",
    "    \"packet2: {}\\n\"\n",
    "    \"packet3: {}\\n\"\n",
    "    \"packet4: {}\\n\".format(\n",
    "        packet1,\n",
    "        packet2,\n",
    "        packet3,\n",
    "        packet4,\n",
    "    )\n",
    ")"
   ]
  },
  {
   "cell_type": "markdown",
   "metadata": {},
   "source": [
    "A few interesting things can be seen from this output. First of all it's very easy to see the content of the string in each packet. Secondly they are all Notice the ``�`` in the beginning of each string; that's the packet header which contains the symbol id.\n",
    "The reason why the content of the packets are readable is that the encoder is systematic. Systematic means that we start by not coding any data, as all data initally will be innovative."
   ]
  },
  {
   "cell_type": "code",
   "execution_count": 42,
   "metadata": {
    "collapsed": false
   },
   "outputs": [
    {
     "data": {
      "text/plain": [
       "True"
      ]
     },
     "execution_count": 42,
     "metadata": {},
     "output_type": "execute_result"
    }
   ],
   "source": [
    "encoder.is_systematic_on()"
   ]
  }
 ],
 "metadata": {
  "kernelspec": {
   "display_name": "Python 2",
   "language": "python",
   "name": "python2"
  },
  "language_info": {
   "codemirror_mode": {
    "name": "ipython",
    "version": 2
   },
   "file_extension": ".py",
   "mimetype": "text/x-python",
   "name": "python",
   "nbconvert_exporter": "python",
   "pygments_lexer": "ipython2",
   "version": "2.7.9"
  }
 },
 "nbformat": 4,
 "nbformat_minor": 0
}
